{
 "cells": [
  {
   "cell_type": "markdown",
   "metadata": {},
   "source": [
    "Copyright Amazon.com, Inc. or its affiliates. All Rights Reserved.\n",
    "SPDX-License-Identifier: Apache-2.0"
   ]
  },
  {
   "cell_type": "markdown",
   "metadata": {},
   "source": [
    "# Referentiel Pièces de Rechange\n"
   ]
  },
  {
   "cell_type": "markdown",
   "metadata": {},
   "source": [
    "## Check the status of our connection\n",
    "The three cells below can be used to check the version of the workbench, the current configuration, and the status of the Neptune cluster."
   ]
  },
  {
   "cell_type": "code",
   "execution_count": null,
   "metadata": {},
   "outputs": [],
   "source": [
    "%graph_notebook_version"
   ]
  },
  {
   "cell_type": "code",
   "execution_count": null,
   "metadata": {},
   "outputs": [],
   "source": [
    "%graph_notebook_config"
   ]
  },
  {
   "cell_type": "code",
   "execution_count": 3,
   "metadata": {},
   "outputs": [
    {
     "data": {
      "text/plain": [
       "{'status': 'healthy',\n",
       " 'startTime': 'Wed Aug 31 15:15:06 UTC 2022',\n",
       " 'dbEngineVersion': '1.1.1.0.R5',\n",
       " 'role': 'writer',\n",
       " 'dfeQueryEngine': 'viaQueryHint',\n",
       " 'gremlin': {'version': 'tinkerpop-3.5.2'},\n",
       " 'sparql': {'version': 'sparql-1.1'},\n",
       " 'opencypher': {'version': 'Neptune-9.0.20190305-1.0'},\n",
       " 'labMode': {'ObjectIndex': 'disabled',\n",
       "  'ReadWriteConflictDetection': 'enabled'},\n",
       " 'features': {'ResultCache': {'status': 'disabled'},\n",
       "  'IAMAuthentication': 'disabled',\n",
       "  'Streams': 'disabled',\n",
       "  'AuditLog': 'disabled'},\n",
       " 'settings': {'clusterQueryTimeoutInMs': '120000'}}"
      ]
     },
     "execution_count": 3,
     "metadata": {},
     "output_type": "execute_result"
    }
   ],
   "source": [
    "%status"
   ]
  },
  {
   "cell_type": "markdown",
   "metadata": {},
   "source": [
    "## Create the graph\n",
    "The cell below creates the property graph. A set of queries that can be run against the data follows in the subsequent cells."
   ]
  },
  {
   "cell_type": "code",
   "execution_count": 4,
   "metadata": {},
   "outputs": [
    {
     "data": {
      "application/vnd.jupyter.widget-view+json": {
       "model_id": "437d1a16deb142b38503aa381cc91cef",
       "version_major": 2,
       "version_minor": 0
      },
      "text/plain": [
       "Tab(children=(Output(layout=Layout(max_height='600px', max_width='940px', overflow='scroll')), Output(layout=L…"
      ]
     },
     "metadata": {},
     "output_type": "display_data"
    }
   ],
   "source": [
    "%%gremlin\n",
    "\n",
    "// Pièces\n",
    "g.addV(\"Piece\").\n",
    "    property(id,'P1').\n",
    "    property(\"name\", \"Piece1\").\n",
    "    property(\"deprecated\", \"no\").\n",
    "    as(\"p1\").\n",
    "addV(\"Piece\").\n",
    "    property(id,'P2').\n",
    "    property(\"name\", \"Piece2\").\n",
    "    property(\"deprecated\", \"no\").\n",
    "    as(\"p2\").\n",
    "addV(\"Piece\").\n",
    "    property(id,'P3').\n",
    "    property(\"name\", \"Piece3\").\n",
    "    property(\"deprecated\", \"no\").\n",
    "    as(\"p3\").\n",
    "addV(\"Piece\").\n",
    "    property(id,'P1-1').\n",
    "    property(\"name\", \"Piece1-1\").\n",
    "    property(\"deprecated\", \"no\").\n",
    "    as(\"p1-1\").\n",
    "addV(\"Piece\").\n",
    "    property(id,'P1-2').\n",
    "    property(\"name\", \"Piece1-2\").\n",
    "    property(\"deprecated\", \"no\").\n",
    "    as(\"p1-2\").\n",
    "addV(\"Piece\").\n",
    "    property(id,'P2-1').\n",
    "    property(\"name\", \"Piece2-1\").\n",
    "    property(\"deprecated\", \"no\").\n",
    "    as(\"p2-1\").\n",
    "addV(\"Piece\").\n",
    "    property(id,'P2-2').\n",
    "    property(\"name\", \"Piece2-2\").\n",
    "    property(\"deprecated\", \"no\").\n",
    "    property(\"singleElement\",true).\n",
    "    as(\"p2-2\").\n",
    "addV(\"Piece\").\n",
    "    property(id,'P1-1-1').\n",
    "    property(\"name\", \"Piece1-1-1\").\n",
    "    property(\"deprecated\", \"yes\").\n",
    "    property(\"singleElement\",true).\n",
    "    as(\"p1-1-1\").\n",
    "addV(\"Piece\").\n",
    "    property(id,'P1-1-2').\n",
    "    property(\"name\", \"Piece1-1-2\").\n",
    "    property(\"deprecated\", \"yes\").\n",
    "    property(\"singleElement\",true).\n",
    "    as(\"p1-1-2\").\n",
    "addV(\"Piece\").\n",
    "    property(id,'P1-2-1').\n",
    "    property(\"name\", \"Piece1-2-1\").\n",
    "    property(\"deprecated\", \"no\").\n",
    "    property(\"singleElement\",true).\n",
    "    as(\"p1-2-1\").\n",
    "addV(\"Piece\").\n",
    "    property(id,'P1-2-2').\n",
    "    property(\"name\", \"Piece1-2-2\").\n",
    "    property(\"deprecated\", \"no\").\n",
    "    property(\"singleElement\",true).\n",
    "    as(\"p1-2-2\").\n",
    "addV(\"Piece\").\n",
    "    property(id,'P2-1-1').\n",
    "    property(\"name\", \"Piece2-1-1\").\n",
    "    property(\"deprecated\", \"no\").\n",
    "    property(\"singleElement\",true).\n",
    "    as(\"p2-1-1\").\n",
    "addV(\"Piece\").\n",
    "    property(id,'P2-1-2').\n",
    "    property(\"name\", \"Piece2-1-2\").\n",
    "    property(\"deprecated\", \"no\").\n",
    "    property(\"singleElement\",true).\n",
    "    as(\"p2-1-2\").\n",
    "addV(\"Piece\").\n",
    "    property(id,'P1-1-1b').\n",
    "    property(\"name\", \"Piece1-1-1b\").\n",
    "    property(\"deprecated\", \"no\").\n",
    "    property(\"singleElement\",true).\n",
    "    as(\"p1-1-1b\").\n",
    "addV(\"Piece\").\n",
    "    property(id,'P1-1-2b').\n",
    "    property(\"name\", \"Piece1-1-2b\").\n",
    "    property(\"deprecated\", \"yes\").\n",
    "    property(\"singleElement\",true).\n",
    "    as(\"p1-1-2b\").\n",
    "addV(\"Piece\").\n",
    "    property(id,'P1-1-2c').\n",
    "    property(\"name\", \"Piece1-1-2c\").\n",
    "    property(\"deprecated\", \"no\").\n",
    "    property(\"singleElement\",true).\n",
    "    as(\"p1-1-2c\").\n",
    "addV(\"Piece\").\n",
    "    property(id,'P1-1-2d').\n",
    "    property(\"name\", \"Piece1-1-2d\").\n",
    "    property(\"deprecated\", \"yes\").\n",
    "    property(\"singleElement\",true).\n",
    "    as(\"p1-1-2d\").\n",
    "addV(\"Piece\").\n",
    "    property(id,'P1-1-2e').\n",
    "    property(\"name\", \"Piece1-1-2e\").\n",
    "    property(\"deprecated\", \"no\").\n",
    "    property(\"singleElement\",true).\n",
    "    as(\"p1-1-2e\").\n",
    "addE(\"Son_of\").from(\"p1-1\").to(\"p1\").\n",
    "addE(\"Son_of\").from(\"p1-2\").to(\"p1\").\n",
    "addE(\"Son_of\").from(\"p2-1\").to(\"p2\").\n",
    "addE(\"Son_of\").from(\"p2-2\").to(\"p2\").\n",
    "addE(\"Son_of\").from(\"p1-1\").to(\"p3\").\n",
    "addE(\"Son_of\").from(\"p2-2\").to(\"p3\").\n",
    "addE(\"Son_of\").from(\"p1-1-1\").to(\"p1-1\").\n",
    "addE(\"Son_of\").from(\"p1-1-2\").to(\"p1-1\").\n",
    "addE(\"Son_of\").from(\"p1-2-1\").to(\"p1-2\").\n",
    "addE(\"Son_of\").from(\"p1-2-2\").to(\"p1-2\").\n",
    "addE(\"Son_of\").from(\"p2-1-1\").to(\"p2-1\").\n",
    "addE(\"Son_of\").from(\"p2-1-2\").to(\"p2-1\").\n",
    "addE(\"Replaced_by\").from(\"p1-1-1\").to(\"p1-1-1b\").\n",
    "addE(\"Replaced_by\").from(\"p1-1-2\").to(\"p1-1-2b\").\n",
    "addE(\"Replaced_by\").from(\"p1-1-2b\").to(\"p1-1-2c\").\n",
    "addE(\"Replaced_by\").from(\"p1-1-2b\").to(\"p1-1-2d\").\n",
    "addE(\"Replaced_by\").from(\"p1-1-2d\").to(\"p1-1-2e\")"
   ]
  },
  {
   "cell_type": "markdown",
   "metadata": {},
   "source": [
    "### Verify the data was inserted"
   ]
  },
  {
   "cell_type": "code",
   "execution_count": 5,
   "metadata": {},
   "outputs": [
    {
     "data": {
      "application/vnd.jupyter.widget-view+json": {
       "model_id": "c5825fafbe344fe890f091ffbee5b663",
       "version_major": 2,
       "version_minor": 0
      },
      "text/plain": [
       "Tab(children=(Output(layout=Layout(max_height='600px', max_width='940px', overflow='scroll')), Output(layout=L…"
      ]
     },
     "metadata": {},
     "output_type": "display_data"
    }
   ],
   "source": [
    "%%gremlin\n",
    "g.V().groupCount().by(label).unfold()"
   ]
  },
  {
   "cell_type": "code",
   "execution_count": null,
   "metadata": {},
   "outputs": [],
   "source": [
    "%%gremlin\n",
    "g.E().groupCount().by(label).unfold()"
   ]
  },
  {
   "cell_type": "markdown",
   "metadata": {},
   "source": [
    "### Build a visualization of the graph\n",
    "Run the cell below and select the Graph tab to see a visualization of the results. The various hints you can provide and settings you can adjust when building visualizations are explained in the blog post located [here](https://aws.amazon.com/blogs/database/visualize-query-results-using-the-amazon-neptune-workbench/)."
   ]
  },
  {
   "cell_type": "markdown",
   "metadata": {},
   "source": [
    "Find the top level Pieces"
   ]
  },
  {
   "cell_type": "code",
   "execution_count": 10,
   "metadata": {
    "scrolled": true
   },
   "outputs": [
    {
     "data": {
      "application/vnd.jupyter.widget-view+json": {
       "model_id": "274023e89b2b40938b4ccb104c16fb02",
       "version_major": 2,
       "version_minor": 0
      },
      "text/plain": [
       "Tab(children=(Output(layout=Layout(max_height='600px', max_width='940px', overflow='scroll')), Output(layout=L…"
      ]
     },
     "metadata": {},
     "output_type": "display_data"
    }
   ],
   "source": [
    "%%gremlin -p v,outv,outv --group-by name\n",
    "g.V().hasLabel('Piece').where(out(\"Son_of\").count().is(0)).where(in(\"Son_of\").count().is(0)).valueMap(true).toList()\n"
   ]
  },
  {
   "cell_type": "markdown",
   "metadata": {},
   "source": [
    "Visualize the data"
   ]
  },
  {
   "cell_type": "code",
   "execution_count": null,
   "metadata": {
    "scrolled": false
   },
   "outputs": [],
   "source": [
    "%%gremlin -p v,ine,outv,oute,inv,oute,inv -g name\n",
    "g.V().hasLabel('Piece').inE().outV().path().by('name').by(label)"
   ]
  },
  {
   "cell_type": "markdown",
   "metadata": {},
   "source": [
    "### Example of queries"
   ]
  },
  {
   "cell_type": "markdown",
   "metadata": {},
   "source": [
    "Find all the sons of a Piece"
   ]
  },
  {
   "cell_type": "code",
   "execution_count": 59,
   "metadata": {
    "scrolled": true
   },
   "outputs": [
    {
     "data": {
      "application/vnd.jupyter.widget-view+json": {
       "model_id": "ba251735a8ee44998a133f657ac427c5",
       "version_major": 2,
       "version_minor": 0
      },
      "text/plain": [
       "Tab(children=(Output(layout=Layout(max_height='600px', max_width='940px', overflow='scroll')), Output(layout=L…"
      ]
     },
     "metadata": {},
     "output_type": "display_data"
    }
   ],
   "source": [
    "%%gremlin -p v,outv,outv --group-by name\n",
    "g.V().has(id,\"P1-1-1\").emit().\n",
    "  repeat(in(\"Son_of\")).emit().repeat(out(\"Replaced_by\"))"
   ]
  },
  {
   "cell_type": "markdown",
   "metadata": {},
   "source": [
    "Find all the direct sons of a Piece"
   ]
  },
  {
   "cell_type": "code",
   "execution_count": null,
   "metadata": {},
   "outputs": [],
   "source": [
    "%%gremlin -p v,outv,oute,inv,oute,inv\n",
    "g.V().has('name','Piece1').in(\"Son_of\").path().by('name')"
   ]
  },
  {
   "cell_type": "markdown",
   "metadata": {},
   "source": [
    "How many deprecated piece do we have?"
   ]
  },
  {
   "cell_type": "code",
   "execution_count": null,
   "metadata": {},
   "outputs": [],
   "source": [
    "%%gremlin \n",
    "g.V().has('deprecated','yes').count()"
   ]
  },
  {
   "cell_type": "markdown",
   "metadata": {},
   "source": [
    "List the deprecated piece"
   ]
  },
  {
   "cell_type": "code",
   "execution_count": null,
   "metadata": {},
   "outputs": [],
   "source": [
    "%%gremlin -p v,outv,oute,inv,oute,inv\n",
    "g.V().has('deprecated','yes')"
   ]
  },
  {
   "cell_type": "markdown",
   "metadata": {},
   "source": [
    "Show me the path to the first non deprecated piece for replacement"
   ]
  },
  {
   "cell_type": "code",
   "execution_count": null,
   "metadata": {},
   "outputs": [],
   "source": [
    "%%gremlin -p inv,inv,inv\n",
    "g.V().has('name','Piece1-1-2').repeat(out(\"Replaced_by\")).until(has('deprecated',\"no\")).path().by('name')"
   ]
  },
  {
   "cell_type": "markdown",
   "metadata": {},
   "source": [
    "Find the first non deprecated piece for replacement"
   ]
  },
  {
   "cell_type": "code",
   "execution_count": 61,
   "metadata": {},
   "outputs": [
    {
     "data": {
      "application/vnd.jupyter.widget-view+json": {
       "model_id": "9efd941954394e319f5e70b7b0035648",
       "version_major": 2,
       "version_minor": 0
      },
      "text/plain": [
       "Tab(children=(Output(layout=Layout(max_height='600px', max_width='940px', overflow='scroll')), Output(layout=L…"
      ]
     },
     "metadata": {},
     "output_type": "display_data"
    }
   ],
   "source": [
    "%%gremlin -p v,outv,oute,inv,oute,inv\n",
    "g.V().has('name','Piece1').repeat(out(\"Replaced_by\")).until(has('deprecated',\"no\"))"
   ]
  },
  {
   "cell_type": "markdown",
   "metadata": {},
   "source": [
    "### Delete the entire data set\n",
    "This cell can be used to delete the data set. The drop is done using explicit IDs to try and avoid conflicts with any other data you may have loaded in your graph."
   ]
  },
  {
   "cell_type": "code",
   "execution_count": null,
   "metadata": {},
   "outputs": [],
   "source": [
    "%%gremlin\n",
    "g.V().hasId('P1', 'P2', 'P3', 'P1-1', 'P1-2', 'P2-1', 'P2-2', 'P1-1-1', 'P1-1-2', 'P1-2-1', 'P1-2-2',\n",
    "            'P2-1-1','P2-1-2','P1-1-1b','P1-1-2b','P1-1-2c','P1-1-2d','P1-1-2e').drop()"
   ]
  },
  {
   "cell_type": "code",
   "execution_count": null,
   "metadata": {},
   "outputs": [],
   "source": []
  }
 ],
 "metadata": {
  "kernelspec": {
   "display_name": "Python 3",
   "language": "python",
   "name": "python3"
  },
  "language_info": {
   "codemirror_mode": {
    "name": "ipython",
    "version": 3
   },
   "file_extension": ".py",
   "mimetype": "text/x-python",
   "name": "python",
   "nbconvert_exporter": "python",
   "pygments_lexer": "ipython3",
   "version": "3.7.12"
  }
 },
 "nbformat": 4,
 "nbformat_minor": 2
}
